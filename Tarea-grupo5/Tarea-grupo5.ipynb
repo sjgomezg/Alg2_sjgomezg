{
  "nbformat": 4,
  "nbformat_minor": 0,
  "metadata": {
    "colab": {
      "name": "BinaryTree.ipynb",
      "provenance": [],
      "collapsed_sections": []
    },
    "kernelspec": {
      "name": "python3",
      "display_name": "Python 3"
    },
    "language_info": {
      "name": "python"
    }
  },
  "cells": [
    {
      "cell_type": "code",
      "metadata": {
        "id": "FbSLCMgtp-EV"
      },
      "source": [
        "import time"
      ],
      "execution_count": null,
      "outputs": []
    },
    {
      "cell_type": "code",
      "metadata": {
        "colab": {
          "base_uri": "https://localhost:8080/"
        },
        "id": "34pZipUgp9FN",
        "outputId": "a6cb687d-d2b8-490c-e558-cc60c13670d1"
      },
      "source": [
        "# Python program to demonstrate searching operation\n",
        "# in binary search tree without recursion\n",
        "class newNode:\n",
        "\n",
        "\t# Constructor to create a new node\n",
        "\tdef __init__(self, data):\n",
        "\t\tself.data = data\n",
        "\t\tself.left = None\n",
        "\t\tself.right = None\n",
        "\n",
        "# Function to check the given\n",
        "# key exist or not\n",
        "def iterativeSearch(root, key):\n",
        "\tsearchPath = []\n",
        "\t# Traverse until root reaches\n",
        "\t# to dead end\n",
        "\tsearchPath.append(root.data) #Agregamos el nodo raiz a la ruta\n",
        "\twhile root != None:\n",
        "\t\t# pass right subtree as new tree\n",
        "\t\tif key > root.data:\n",
        "\t\t\troot = root.right\n",
        "\t\t\tsearchPath.append(\"->\") #Indicamos la direccion que se toma para llegar al nodo buscado\n",
        "\t\t\tif(root is not None): #Evaluamos que el nodo hijo exista\n",
        "\t\t\t\tsearchPath.append(root.data) #Indicamos los valores por donde se pasa para llegar al nodo buscado\n",
        "\t\t# pass left subtree as new tree\n",
        "\t\telif key < root.data:\n",
        "\t\t\troot = root.left\n",
        "\t\t\tsearchPath.append(\"<-\") #Indicamos la direccion que se toma para llegar al nodo buscado\n",
        "\t\t\tif(root is not None): #Evaluamos que el nodo hijo exista\n",
        "\t\t\t\tsearchPath.append(root.data) #Indicamos los valores por donde se pasa para llegar al nodo buscado\n",
        "\t\telse:\n",
        "\t\t\treturn searchPath # if the key is found return the complete path\n",
        "\treturn None #No se encontro el nodo buscado\n",
        "\n",
        "# A utility function to insert a\n",
        "# new Node with given key in BST\n",
        "def insert(Node, data):\n",
        "\t\n",
        "\t# If the tree is empty, return\n",
        "\t# a new Node\n",
        "\tif Node == None:\n",
        "\t\treturn newNode(data)\n",
        "\n",
        "\t# Otherwise, recur down the tree\n",
        "\tif data < Node.data:\n",
        "\t\tNode.left = insert(Node.left, data)\n",
        "\telif data > Node.data:\n",
        "\t\tNode.right = insert(Node.right, data)\n",
        "\n",
        "\t# return the (unchanged) Node pointer\n",
        "\treturn Node\n",
        "\n",
        "# Driver Code\n",
        "if __name__ == '__main__':\n",
        "\troot = None\n",
        "\tprint(\"Ingrese el valor del nodo raiz: \")\n",
        "\trootValue = int(input()) #Ingresamos el valor del nodo raiz\n",
        "\troot = insert(root, rootValue) \n",
        "\tprint(\"Ingrese la cantidad de nodos: \")\n",
        "\tcantNodes = int(input()) #Ingresamos la cantidad de nodos para armar el arbol\n",
        "\tfor i in range(cantNodes - 1):\n",
        "\t\tprint(\"Ingrese el valor del nodo ({})\".format(i + 1))\n",
        "\t\tnodeValue = int(input()) #Insertamos loos valores de todos los nodos\n",
        "\t\tinsert(root, nodeValue)\n",
        "\tprint(\"Ingrese el valor que desea buscar:\")\n",
        "\tsearchValue = int(input()) #Ingresamos el valor a buscar dentro del arbol binario\n",
        "\tstart_time = time.time()\n",
        "\tsearchPath = iterativeSearch(root, searchValue)\n",
        "\tif searchPath is None:\n",
        "\t\tprint(\"No se encontro el valor en el arbol.\")\n",
        "\telse:\n",
        "\t\tif len(searchPath) > 1 :\n",
        "\t\t\tprint(\"La ruta hasta el valor buscado desde el origen es: \", searchPath) #Imprimimos la ruta completa \n",
        "\t\telse:\n",
        "\t\t\t print(\"El valor buscado se encuentra en el nodo raiz\")\n",
        "\t\t\n",
        "\tprint('El tiempo de ejecucion fue:', (time.time() - start_time))\n",
        "\n",
        "# This code is contributed by PranchalK\n"
      ],
      "execution_count": null,
      "outputs": [
        {
          "output_type": "stream",
          "name": "stdout",
          "text": [
            "Ingrese el valor del nodo raiz: \n",
            "1\n",
            "Ingrese la cantidad de nodos: \n",
            "9\n",
            "Ingrese el valor del nodo (1)\n",
            "2\n",
            "Ingrese el valor del nodo (2)\n",
            "4\n",
            "Ingrese el valor del nodo (3)\n",
            "6\n",
            "Ingrese el valor del nodo (4)\n",
            "8\n",
            "Ingrese el valor del nodo (5)\n",
            "6\n",
            "Ingrese el valor del nodo (6)\n",
            "13\n",
            "Ingrese el valor del nodo (7)\n",
            "24\n",
            "Ingrese el valor del nodo (8)\n",
            "65\n",
            "Ingrese el valor que desea buscar:\n",
            "62\n",
            "No se encontro el valor en el arbol.\n",
            "El tiempo de ejecucion fue: 8.0108642578125e-05\n"
          ]
        }
      ]
    },
    {
      "cell_type": "code",
      "metadata": {
        "id": "6x57wlFKjg0_"
      },
      "source": [
        ""
      ],
      "execution_count": null,
      "outputs": []
    }
  ]
}
