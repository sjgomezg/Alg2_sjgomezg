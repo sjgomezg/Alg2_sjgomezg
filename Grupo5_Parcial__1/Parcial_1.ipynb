{
  "nbformat": 4,
  "nbformat_minor": 0,
  "metadata": {
    "colab": {
      "name": "Parcial01.ipynb",
      "provenance": [],
      "collapsed_sections": []
    },
    "kernelspec": {
      "name": "python3",
      "display_name": "Python 3"
    },
    "language_info": {
      "name": "python"
    }
  },
  "cells": [
    {
      "cell_type": "code",
      "metadata": {
        "id": "0LapwCkLCddV"
      },
      "source": [
        "import time"
      ],
      "execution_count": null,
      "outputs": []
    },
    {
      "cell_type": "code",
      "metadata": {
        "colab": {
          "base_uri": "https://localhost:8080/"
        },
        "id": "TXWmSeY74Roz",
        "outputId": "5a89b643-c6b8-4ef8-e740-1abbf3ca52cb"
      },
      "source": [
        "def productTwoIntegers(a, b): #Definimos la funciona que calculara el producto de dos enteros\n",
        "  result = 0 #La variable que se va a devolver\n",
        "  while(b > 0): #Mientras que ba sea mayor a 0\n",
        "    if(b & 1): result = result + a #si el binario de b en la posicion 1 es 1 se suma a al resultado\n",
        "    a = a << 1 #desplazamos el binario de a hacia la izquierda\n",
        "    b = b >> 1 #desplazamos el binario de b hacia la derecha\n",
        "  return result #Retornamos el resultado\n",
        "\n",
        "a = int(input()) #Valor #1 a evaluar\n",
        "b = int(input()) #Valor #2 a evaluar\n",
        "start_time = time.time()\n",
        "if(a/10000 < 10 and b/10000 < 10): # Si los dos valores son mas pequeños que 100000\n",
        "  if(a > 0 and b > 0): #Si los dos Valores son positivos\n",
        "    result = productTwoIntegers(a, b) #Se evalua el producto\n",
        "    print(result) #Se imprime el resultado\n",
        "  else: #De lo contrario se imprime un mensaje de alerta\n",
        "    print('alguno de los dos numeros es negativo')\n",
        "else:#De lo contrario se imprime un mensaje de alerta\n",
        "  print('alguno de los dos valores ingresados tiene una longitud mayor a 5, intentelo de nuevo')\n",
        "print('El tiempo de ejecucion fue:', (time.time() - start_time))\n"
      ],
      "execution_count": null,
      "outputs": [
        {
          "output_type": "stream",
          "name": "stdout",
          "text": [
            "45\n",
            "2\n",
            "90\n",
            "El tiempo de ejecucion fue: 0.0006387233734130859\n"
          ]
        }
      ]
    },
    {
      "cell_type": "code",
      "metadata": {
        "id": "wIHXyyek7QBL",
        "colab": {
          "base_uri": "https://localhost:8080/"
        },
        "outputId": "bb625bd0-77f7-4c0d-faf3-91c60ce31ff7"
      },
      "source": [
        " def fibonacciNumber(n): #Definimos una funcion que recibe el tamaño a evaluar\n",
        "  a = 0 #Asignacion\n",
        "  b = 1 #Asignacion\n",
        "  c = 0 #Asignacion\n",
        "  if(n == 0): #Si n = 0\n",
        "    return a  #Se retorna 0\n",
        "  else: #en caso contrario\n",
        "    for i in range(1,n): #Se ejecuta este codigo n cantidad de veces\n",
        "      c = a + b #El valor de c es = igual a el valor de a mas el b\n",
        "      a = b #El valor de a, pasa a ser el de b\n",
        "      b = c #El valor de b pasa a ser el valor de c\n",
        "    return c #Retornamos el resultado de la seria fibonacci\n",
        "n = int(input()) #El usuario ingresa un numero para calcular\n",
        "start_time = time.time()\n",
        "if(n <= 100): #si n es menor igual a 100 se evalua la serie, ya que el tamaño esta restringido\n",
        "  print(fibonacciNumber(n)) #Imprimimos el numero\n",
        "else: print('El tamaño maximo aceptado es de 100') #El tamaño ingresado es mayor a 100\n",
        "print('El tiempo de ejecucion fue:', (time.time() - start_time))"
      ],
      "execution_count": null,
      "outputs": [
        {
          "output_type": "stream",
          "name": "stdout",
          "text": [
            "2\n",
            "1\n",
            "El tiempo de ejecucion fue: 0.0005917549133300781\n"
          ]
        }
      ]
    }
  ]
}