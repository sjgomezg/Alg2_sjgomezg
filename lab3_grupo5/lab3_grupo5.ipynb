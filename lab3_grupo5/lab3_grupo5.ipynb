{
  "nbformat": 4,
  "nbformat_minor": 0,
  "metadata": {
    "colab": {
      "name": "Untitled0.ipynb",
      "provenance": [],
      "collapsed_sections": []
    },
    "kernelspec": {
      "name": "python3",
      "display_name": "Python 3"
    },
    "language_info": {
      "name": "python"
    }
  },
  "cells": [
    {
      "cell_type": "code",
      "metadata": {
        "id": "lB1s_qDAlx_F"
      },
      "source": [
        "from math import *"
      ],
      "execution_count": null,
      "outputs": []
    },
    {
      "cell_type": "code",
      "metadata": {
        "colab": {
          "base_uri": "https://localhost:8080/"
        },
        "id": "_fbAVQzporlm",
        "outputId": "f06d498d-9ffb-4e1c-f47f-55ed23ea6a69"
      },
      "source": [
        "def biseccion(f, a, b, tol):\n",
        "  c = (a + b) / 2.0 #Este es el punto medio del intervalo\n",
        "  x0 = f(a) #La funcion evaluada en el intervalo inferior\n",
        "  x1 = f(b) #La funcion evaluada en el intervalo superior\n",
        "  xm = f(c) #La funcion evaluada en el punto medio del intervalo\n",
        "  if(x0*x1 > 0): #Si no hay un cambio de signo se devuelve vacio\n",
        "    return None, None, None\n",
        "  iter = 0 #Numero de iteraciones realizadas\n",
        "  while abs(b - a) > tol: #Mientras que la tolerancia sea menor a el intervao inferior menos el intervalo superior\n",
        "    if x0 * xm <= 0:\n",
        "      b = c #significa que la raiz esta a la derecha del punto medio\n",
        "    else:\n",
        "      a  = c #Significa que la raiz esta a la izquierda del punto medio\n",
        "      x0 = xm #Se reduce a la mitad el intervalo\n",
        "\n",
        "    c = (a + b) / 2.0 #Se calcula el punto medio del nuevo intervalo\n",
        "    xm = f(c) #Se calcula la funcion en el punto medio\n",
        "    iter += 1 #Se aumenta las iteraciones\n",
        "  return iter, c, xm #Finaliza el calculo\n",
        "\n",
        "\n",
        "def f(x): #Definicion de la funcion propuesta\n",
        "  return ( -x ** 4 ) + ( 30 * x ** 3 ) + ( 15 * x ** 2 ) + ( 34 * x ) + 540\n",
        "def g(x): #Definicion de la funcion de pruebas\n",
        "  return ( x ** 3 ) + ( 2 * x ** 2 ) + ( 10 * x ) - 20 \n",
        "\n",
        "a = 0 #Limite inferior\n",
        "b = 1000 # limite Superior\n",
        "tol = 1e-3 #Tolerancia\n",
        "iter, x, fx = biseccion(f, a, b, tol) #Calculo de la funcion\n",
        "\n",
        "if x is None:\n",
        "    print('f(x) no tiene raices en el intervalo [{0:g},{1:g}]'.format(a, b)) #En caso de que no hayan raices en la funcion\n",
        "else:\n",
        "    print('Se realizaron {0:d} iteraciones, la tolerancia proporcionada: {1:g} se encontro una raiz en:'.format(iter,tol)) \n",
        "    print('x = {0:g}, evaluandola nos da f({0:g}) = {1:g}'.format(x,fx)) #descripcion de la salida\n",
        "\n",
        "iter2, y, fy = biseccion(g, a, b, tol)\n",
        "\n",
        "if y is None:\n",
        "    print('f(x) no tiene raices en el intervalo [{0:g},{1:g}]'.format(a, b))\n",
        "else:\n",
        "    print('Se realizaron {0:d} iteraciones, la tolerancia proporcionada: {1:g} se encontro una raiz en:'.format(iter2,tol)) \n",
        "    print('x = {0:g}, evaluandola nos da f({0:g}) = {1:g}'.format(y,fy))"
      ],
      "execution_count": null,
      "outputs": [
        {
          "output_type": "stream",
          "name": "stdout",
          "text": [
            "Se realizaron 20 iteraciones, la tolerancia proporcionada: 0.001 se encontro una raiz en:\n",
            "x = 30.5467, evaluandola nos da f(30.5467) = -6.56022\n",
            "Se realizaron 20 iteraciones, la tolerancia proporcionada: 0.001 se encontro una raiz en:\n",
            "x = 1.369, evaluandola nos da f(1.369) = 0.00403746\n"
          ]
        }
      ]
    }
  ]
}
